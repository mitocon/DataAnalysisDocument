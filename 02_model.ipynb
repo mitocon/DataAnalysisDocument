{
 "cells": [
  {
   "cell_type": "code",
   "execution_count": 1,
   "id": "ba85fdde-1a61-4dfa-9bc0-9592857c9c3f",
   "metadata": {
    "tags": []
   },
   "outputs": [],
   "source": [
    "import glob\n",
    "import pandas as pd\n",
    "import numpy as np\n",
    "import matplotlib.pyplot as plt\n",
    "import seaborn as sns\n",
    "#グラフの描画\n",
    "%matplotlib inline"
   ]
  },
  {
   "cell_type": "code",
   "execution_count": 2,
   "id": "63b81119-bbd9-4866-aa46-6ad121875566",
   "metadata": {
    "tags": []
   },
   "outputs": [
    {
     "name": "stderr",
     "output_type": "stream",
     "text": [
      "/var/folders/2r/1x2sq2h12nq19x6804nzmc_h0000gp/T/ipykernel_18002/1756106423.py:4: DtypeWarning: Columns (10) have mixed types. Specify dtype option on import or set low_memory=False.\n",
      "  data_list.append(pd.read_csv(file, index_col=0))\n",
      "/var/folders/2r/1x2sq2h12nq19x6804nzmc_h0000gp/T/ipykernel_18002/1756106423.py:4: DtypeWarning: Columns (10) have mixed types. Specify dtype option on import or set low_memory=False.\n",
      "  data_list.append(pd.read_csv(file, index_col=0))\n"
     ]
    }
   ],
   "source": [
    "files = glob.glob(\"data/train/*.csv\")\n",
    "data_list = []\n",
    "for file in files:\n",
    "    data_list.append(pd.read_csv(file, index_col=0))\n",
    "df = pd.concat(data_list)"
   ]
  },
  {
   "cell_type": "code",
   "execution_count": 3,
   "id": "bab30fd4-1643-4bc6-96f7-d98771af0da9",
   "metadata": {
    "tags": []
   },
   "outputs": [],
   "source": [
    "def data_pre(df):\n",
    "    nonnull_list = []\n",
    "    for col in df.columns:\n",
    "        nonnull = df[col].count()\n",
    "        if nonnull == 0:\n",
    "                nonnull_list.append(col)\n",
    "    df = df.drop(nonnull_list, axis=1)\n",
    "\n",
    "    df = df.drop(\"市区町村名\", axis=1)\n",
    "\n",
    "    df = df.drop(\"種類\", axis = 1)\n",
    "\n",
    "    dis = {\n",
    "        \"1H?1H30\":75,\n",
    "        \"30分?60分\":45,\n",
    "        \"2H?\":120,\n",
    "        \"1H30?2H\":105\n",
    "    }\n",
    "    df[\"最寄駅：距離（分）\"] = df[\"最寄駅：距離（分）\"].replace(dis).astype(float)\n",
    "\n",
    "    df[\"面積（㎡）\"] = df[\"面積（㎡）\"].replace(\"2000㎡以上\", 2000).astype(float)\n",
    "\n",
    "    y_list = {}\n",
    "    for i in df[\"建築年\"].value_counts().keys():\n",
    "        if \"平成\" in i:\n",
    "            num = float(i.split(\"平成\")[1].split(\"年\")[0])\n",
    "            year = 33 - num\n",
    "        if \"令和\" in i:\n",
    "            num = float(i.split(\"令和\")[1].split(\"年\")[0])\n",
    "            year = 3 - num\n",
    "        if \"昭和\" in i:\n",
    "            num = float(i.split(\"昭和\")[1].split(\"年\")[0])\n",
    "            year = 96 - num\n",
    "        y_list[i] = year\n",
    "    y_list[\"戦前\"] = 76\n",
    "    df[\"建築年\"] = df[\"建築年\"].replace(y_list)\n",
    "\n",
    "    year = {\n",
    "        \"年第１四半期\":\".25\",\n",
    "        \"年第2四半期\":\".50\",\n",
    "        \"年第3四半期\":\".75\",\n",
    "        \"年第4四半期\":\".99\"\n",
    "    }\n",
    "    year_list = {}\n",
    "    for i in df[\"取引時点\"].value_counts().keys():\n",
    "        for k,j in year.items():\n",
    "            if k in i:\n",
    "                year_rep = i.replace(k,j)\n",
    "        year_list[i] = year_rep\n",
    "    year_list\n",
    "    df[\"取引時点\"] = df[\"取引時点\"].replace(year_list).astype(float)\n",
    "    \n",
    "    # lightgbmのためにカテゴリ質的変数ですよと明示する\n",
    "    for col in [\"都道府県名\",\"地区名\",\"最寄駅：名称\",\"間取り\",\"建物の構造\",\"用途\",\"今後の利用目的\",\"都市計画\",\"改装\",\"取引の事情等\"]:\n",
    "        # lgb.train()時のエラーの解消\n",
    "        # ValueError: pandas dtypes must be int, float or bool.\n",
    "        df[col] = df[col].astype(\"category\")\n",
    "    return df"
   ]
  },
  {
   "cell_type": "code",
   "execution_count": 4,
   "id": "b659e6f9-c618-408f-ad15-b8a4aaa6ffc5",
   "metadata": {
    "tags": []
   },
   "outputs": [
    {
     "name": "stdout",
     "output_type": "stream",
     "text": [
      "<class 'pandas.core.frame.DataFrame'>\n",
      "Index: 637351 entries, 40108844 to 12009989\n",
      "Data columns (total 18 columns):\n",
      " #   Column        Non-Null Count   Dtype   \n",
      "---  ------        --------------   -----   \n",
      " 0   市区町村コード       637351 non-null  int64   \n",
      " 1   都道府県名         637351 non-null  category\n",
      " 2   地区名           637060 non-null  category\n",
      " 3   最寄駅：名称        634732 non-null  category\n",
      " 4   最寄駅：距離（分）     614306 non-null  float64 \n",
      " 5   間取り           615609 non-null  category\n",
      " 6   面積（㎡）         637351 non-null  float64 \n",
      " 7   建築年           619117 non-null  float64 \n",
      " 8   建物の構造         623423 non-null  category\n",
      " 9   用途            591214 non-null  category\n",
      " 10  今後の利用目的       275091 non-null  category\n",
      " 11  都市計画          618786 non-null  category\n",
      " 12  建ぺい率（％）       614848 non-null  float64 \n",
      " 13  容積率（％）        614848 non-null  float64 \n",
      " 14  取引時点          637351 non-null  float64 \n",
      " 15  改装            580431 non-null  category\n",
      " 16  取引の事情等        18275 non-null   category\n",
      " 17  取引価格（総額）_log  637351 non-null  float64 \n",
      "dtypes: category(10), float64(7), int64(1)\n",
      "memory usage: 51.6 MB\n"
     ]
    }
   ],
   "source": [
    "df = data_pre(df)\n",
    "df.info()"
   ]
  },
  {
   "cell_type": "code",
   "execution_count": 6,
   "id": "378d1f0a-1795-4a3d-934b-58cfe613fc36",
   "metadata": {
    "tags": []
   },
   "outputs": [
    {
     "name": "stdout",
     "output_type": "stream",
     "text": [
      "[LightGBM] [Warning] Categorical features with more bins than the configured maximum bin number found.\n",
      "[LightGBM] [Warning] For categorical features, max_bin and max_bin_by_feature may be ignored with a large number of categories.\n",
      "[LightGBM] [Info] Auto-choosing row-wise multi-threading, the overhead of testing was 0.007467 seconds.\n",
      "You can set `force_row_wise=true` to remove the overhead.\n",
      "And if memory is not enough, you can set `force_col_wise=true`.\n",
      "[LightGBM] [Info] Total Bins 11634\n",
      "[LightGBM] [Info] Number of data points in the train set: 509880, number of used features: 17\n",
      "[LightGBM] [Info] Start training from score 7.217416\n",
      "Training until validation scores don't improve for 300 rounds\n",
      "Did not meet early stopping. Best iteration is:\n",
      "[1000]\tvalid_0's l1: 0.0779847\n"
     ]
    }
   ],
   "source": [
    "import lightgbm as lgb\n",
    "# scikit-learnサイキットラーン\n",
    "from sklearn.model_selection import train_test_split\n",
    "from sklearn.metrics import mean_absolute_error as mae\n",
    "\n",
    "# 学習データと検証データに分ける\n",
    "df_train, df_val =train_test_split(df, test_size=0.2)\n",
    "\n",
    "# 目的変数と説明変数に分ける\n",
    "# 今回のコンペでは目的変数 = 取引価格、それ以外は説明変数\n",
    "# 目的変数\n",
    "col = \"取引価格（総額）_log\"\n",
    "train_y = df_train[col]\n",
    "train_x = df_train.drop(col, axis=1)\n",
    "#axis=1　はカラムの削除\n",
    "# 説明変数\n",
    "val_y = df_val[col]\n",
    "val_x = df_val.drop(col, axis=1)\n",
    "\n",
    "# lightgbmでは特別に渡す型にする\n",
    "trains = lgb.Dataset(train_x, train_y)\n",
    "valids = lgb.Dataset(val_x, val_y)\n",
    "# lgbの最小限パラメータ\n",
    "params = {\n",
    "    \"objective\": \"regression\", # 回帰タスクなので\n",
    "    \"metrics\": \"mae\" # 評価指標：絶対平均誤差\n",
    "}\n",
    "\n",
    "model = lgb.train(params, trains, valid_sets=valids, num_boost_round=1000, callbacks=[lgb.early_stopping(stopping_rounds=300)])\n"
   ]
  },
  {
   "cell_type": "code",
   "execution_count": 9,
   "id": "034c73cb-42e1-409f-a966-86394489e6ea",
   "metadata": {},
   "outputs": [
    {
     "data": {
      "text/plain": [
       "0.07798473801595494"
      ]
     },
     "execution_count": 9,
     "metadata": {},
     "output_type": "execute_result"
    }
   ],
   "source": [
    "# 確認\n",
    "vals = model.predict(val_x)\n",
    "mae(vals, val_y)"
   ]
  },
  {
   "cell_type": "code",
   "execution_count": 10,
   "id": "dbcfee94-08e7-48dd-99d1-c53e6be702c3",
   "metadata": {
    "tags": []
   },
   "outputs": [],
   "source": [
    "# data/test.csvをインポートする\n",
    "df_test = pd.read_csv(\"data/test.csv\", index_col=0)\n",
    "df_test = data_pre(df_test)"
   ]
  },
  {
   "cell_type": "code",
   "execution_count": 12,
   "id": "e467f387-76be-48c2-a701-fd80d982af1d",
   "metadata": {
    "tags": []
   },
   "outputs": [],
   "source": [
    "predict = model.predict(df_test)\n",
    "df_test[\"取引価格（総額）_log\"] = predict\n",
    "df_test[[\"取引価格（総額）_log\"]].to_csv(\"data/submit_test.csv\")\n",
    "# submit_test.csvに出力されている。\n",
    "# これをNishikaに投稿する"
   ]
  },
  {
   "cell_type": "markdown",
   "id": "b36fda2a-6d00-4d71-b32c-c6638ee25982",
   "metadata": {},
   "source": [
    "# 特徴量重要度を見る"
   ]
  },
  {
   "cell_type": "code",
   "execution_count": 15,
   "id": "9c40c6b6-2394-49e4-a52b-1ce8a424ea72",
   "metadata": {
    "tags": []
   },
   "outputs": [
    {
     "data": {
      "text/html": [
       "<div>\n",
       "<style scoped>\n",
       "    .dataframe tbody tr th:only-of-type {\n",
       "        vertical-align: middle;\n",
       "    }\n",
       "\n",
       "    .dataframe tbody tr th {\n",
       "        vertical-align: top;\n",
       "    }\n",
       "\n",
       "    .dataframe thead th {\n",
       "        text-align: right;\n",
       "    }\n",
       "</style>\n",
       "<table border=\"1\" class=\"dataframe\">\n",
       "  <thead>\n",
       "    <tr style=\"text-align: right;\">\n",
       "      <th></th>\n",
       "      <th>importance</th>\n",
       "    </tr>\n",
       "  </thead>\n",
       "  <tbody>\n",
       "    <tr>\n",
       "      <th>地区名</th>\n",
       "      <td>9095</td>\n",
       "    </tr>\n",
       "    <tr>\n",
       "      <th>最寄駅：名称</th>\n",
       "      <td>6708</td>\n",
       "    </tr>\n",
       "    <tr>\n",
       "      <th>建築年</th>\n",
       "      <td>3523</td>\n",
       "    </tr>\n",
       "    <tr>\n",
       "      <th>面積（㎡）</th>\n",
       "      <td>2260</td>\n",
       "    </tr>\n",
       "    <tr>\n",
       "      <th>最寄駅：距離（分）</th>\n",
       "      <td>2157</td>\n",
       "    </tr>\n",
       "    <tr>\n",
       "      <th>取引時点</th>\n",
       "      <td>1695</td>\n",
       "    </tr>\n",
       "    <tr>\n",
       "      <th>間取り</th>\n",
       "      <td>883</td>\n",
       "    </tr>\n",
       "    <tr>\n",
       "      <th>市区町村コード</th>\n",
       "      <td>810</td>\n",
       "    </tr>\n",
       "    <tr>\n",
       "      <th>都道府県名</th>\n",
       "      <td>583</td>\n",
       "    </tr>\n",
       "    <tr>\n",
       "      <th>改装</th>\n",
       "      <td>554</td>\n",
       "    </tr>\n",
       "    <tr>\n",
       "      <th>容積率（％）</th>\n",
       "      <td>495</td>\n",
       "    </tr>\n",
       "    <tr>\n",
       "      <th>都市計画</th>\n",
       "      <td>377</td>\n",
       "    </tr>\n",
       "    <tr>\n",
       "      <th>今後の利用目的</th>\n",
       "      <td>297</td>\n",
       "    </tr>\n",
       "    <tr>\n",
       "      <th>取引の事情等</th>\n",
       "      <td>154</td>\n",
       "    </tr>\n",
       "    <tr>\n",
       "      <th>建ぺい率（％）</th>\n",
       "      <td>152</td>\n",
       "    </tr>\n",
       "    <tr>\n",
       "      <th>用途</th>\n",
       "      <td>138</td>\n",
       "    </tr>\n",
       "    <tr>\n",
       "      <th>建物の構造</th>\n",
       "      <td>119</td>\n",
       "    </tr>\n",
       "  </tbody>\n",
       "</table>\n",
       "</div>"
      ],
      "text/plain": [
       "           importance\n",
       "地区名              9095\n",
       "最寄駅：名称           6708\n",
       "建築年              3523\n",
       "面積（㎡）            2260\n",
       "最寄駅：距離（分）        2157\n",
       "取引時点             1695\n",
       "間取り               883\n",
       "市区町村コード           810\n",
       "都道府県名             583\n",
       "改装                554\n",
       "容積率（％）            495\n",
       "都市計画              377\n",
       "今後の利用目的           297\n",
       "取引の事情等            154\n",
       "建ぺい率（％）           152\n",
       "用途                138\n",
       "建物の構造             119"
      ]
     },
     "execution_count": 15,
     "metadata": {},
     "output_type": "execute_result"
    }
   ],
   "source": [
    "model.feature_importance()\n",
    "pd.DataFrame(model.feature_importance(), index=val_x.columns, columns=[\"importance\"]).sort_values(\"importance\", ascending=False)\n",
    "# 決定木の分岐に使われたい回数"
   ]
  },
  {
   "cell_type": "code",
   "execution_count": null,
   "id": "2c655b92-6baf-4f3c-a984-ec7492d471c9",
   "metadata": {},
   "outputs": [],
   "source": [
    "# 次回、.pyファイルに関数を定義"
   ]
  }
 ],
 "metadata": {
  "kernelspec": {
   "display_name": "Python 3 (ipykernel)",
   "language": "python",
   "name": "python3"
  },
  "language_info": {
   "codemirror_mode": {
    "name": "ipython",
    "version": 3
   },
   "file_extension": ".py",
   "mimetype": "text/x-python",
   "name": "python",
   "nbconvert_exporter": "python",
   "pygments_lexer": "ipython3",
   "version": "3.11.5"
  }
 },
 "nbformat": 4,
 "nbformat_minor": 5
}
