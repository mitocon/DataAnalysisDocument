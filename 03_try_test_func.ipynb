{
 "cells": [
  {
   "cell_type": "code",
   "execution_count": 1,
   "id": "57adef75-5af9-4652-93ae-c441f7449dbe",
   "metadata": {
    "tags": []
   },
   "outputs": [],
   "source": [
    "# test_func.pyが動作するか確認\n",
    "import glob\n",
    "import pandas as pd\n",
    "import numpy as np\n",
    "import matplotlib.pyplot as plt\n",
    "import seaborn as sns\n",
    "import test_func as tf\n",
    "%matplotlib inline"
   ]
  },
  {
   "cell_type": "code",
   "execution_count": 2,
   "id": "e79b5ab2-fc4e-41f7-93fb-8eed3d2915e6",
   "metadata": {
    "tags": []
   },
   "outputs": [
    {
     "name": "stderr",
     "output_type": "stream",
     "text": [
      "/var/folders/2r/1x2sq2h12nq19x6804nzmc_h0000gp/T/ipykernel_24334/1756106423.py:4: DtypeWarning: Columns (10) have mixed types. Specify dtype option on import or set low_memory=False.\n",
      "  data_list.append(pd.read_csv(file, index_col=0))\n",
      "/var/folders/2r/1x2sq2h12nq19x6804nzmc_h0000gp/T/ipykernel_24334/1756106423.py:4: DtypeWarning: Columns (10) have mixed types. Specify dtype option on import or set low_memory=False.\n",
      "  data_list.append(pd.read_csv(file, index_col=0))\n"
     ]
    }
   ],
   "source": [
    "files = glob.glob(\"data/train/*.csv\")\n",
    "data_list = []\n",
    "for file in files:\n",
    "    data_list.append(pd.read_csv(file, index_col=0))\n",
    "df = pd.concat(data_list)"
   ]
  },
  {
   "cell_type": "code",
   "execution_count": 3,
   "id": "e23634b4-3c8b-4077-abe4-459a4ce029c5",
   "metadata": {
    "tags": []
   },
   "outputs": [
    {
     "name": "stdout",
     "output_type": "stream",
     "text": [
      "[LightGBM] [Warning] Categorical features with more bins than the configured maximum bin number found.\n",
      "[LightGBM] [Warning] For categorical features, max_bin and max_bin_by_feature may be ignored with a large number of categories.\n",
      "[LightGBM] [Info] Auto-choosing row-wise multi-threading, the overhead of testing was 0.007122 seconds.\n",
      "You can set `force_row_wise=true` to remove the overhead.\n",
      "And if memory is not enough, you can set `force_col_wise=true`.\n",
      "[LightGBM] [Info] Total Bins 11630\n",
      "[LightGBM] [Info] Number of data points in the train set: 509880, number of used features: 17\n",
      "[LightGBM] [Info] Start training from score 7.217409\n",
      "Training until validation scores don't improve for 300 rounds\n",
      "Did not meet early stopping. Best iteration is:\n",
      "[981]\tvalid_0's l1: 0.0784305\n"
     ]
    }
   ],
   "source": [
    "df = tf.data_pre(df)\n",
    "model = tf.model_lab(df)"
   ]
  },
  {
   "cell_type": "code",
   "execution_count": null,
   "id": "5d6b3995-484e-49b6-ab97-fcbcadafb81f",
   "metadata": {},
   "outputs": [],
   "source": []
  }
 ],
 "metadata": {
  "kernelspec": {
   "display_name": "Python 3 (ipykernel)",
   "language": "python",
   "name": "python3"
  },
  "language_info": {
   "codemirror_mode": {
    "name": "ipython",
    "version": 3
   },
   "file_extension": ".py",
   "mimetype": "text/x-python",
   "name": "python",
   "nbconvert_exporter": "python",
   "pygments_lexer": "ipython3",
   "version": "3.11.5"
  }
 },
 "nbformat": 4,
 "nbformat_minor": 5
}
